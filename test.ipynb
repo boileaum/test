{
 "cells": [
  {
   "cell_type": "code",
   "execution_count": null,
   "metadata": {
    "hide_input": false,
    "init_cell": true
   },
   "outputs": [],
   "source": [
    "from IPython.core.display import display, HTML\n",
    "import ipywidgets as widgets\n",
    "button = widgets.Button(description=\"Correction\")\n",
    "display(button)\n",
    "\n",
    "def js_to_str(file_path):\n",
    "    return \"\"\"\n",
    "    <script>\n",
    "    var edit_url = window.location.pathname.replace(/\\/([^\\/]+)$/, \"{}\").replace(\"notebooks\", \"edit\");\n",
    "    window.open(edit_url)\n",
    "    </script>\n",
    "    \"\"\".format(file_path)\n",
    "\n",
    "def on_button_clicked(b):\n",
    "    display(HTML(js_to_str(\"/subdir/test.py\")))\n",
    "\n",
    "button.on_click(on_button_clicked)"
   ]
  },
  {
   "cell_type": "code",
   "execution_count": null,
   "metadata": {
    "hide_input": false,
    "init_cell": true,
    "scrolled": true
   },
   "outputs": [],
   "source": [
    "button = widgets.Button(description=\"Correction\")\n",
    "display(button)\n",
    "\n",
    "def on_button_clicked(b):\n",
    "    display(HTML(js_to_str(\"/subdir/test2.py\")))\n",
    "\n",
    "button.on_click(on_button_clicked)\n"
   ]
  },
  {
   "cell_type": "code",
   "execution_count": null,
   "metadata": {},
   "outputs": [],
   "source": [
    "%%javascript\n",
    "var url = window.location.pathname\n",
    "var file_path = \"/subdir/test.py\"\n",
    "var edit_url = url.replace(/\\/([^\\/]+)$/, file_path).replace(\"notebooks\", \"edit\")\n",
    "window.open(edit_url)\n",
    "window.alert(edit_url)"
   ]
  },
  {
   "cell_type": "code",
   "execution_count": null,
   "metadata": {},
   "outputs": [],
   "source": [
    "%%javascript\n",
    "window.open(\"http://localhost:8858/edit/subdir/test.py\")"
   ]
  },
  {
   "cell_type": "markdown",
   "metadata": {},
   "source": [
    "[lien](../edit/subdir/test.py)"
   ]
  }
 ],
 "metadata": {
  "celltoolbar": "Initialization Cell",
  "kernelspec": {
   "display_name": "Python 3",
   "language": "python",
   "name": "python3"
  },
  "language_info": {
   "codemirror_mode": {
    "name": "ipython",
    "version": 3
   },
   "file_extension": ".py",
   "mimetype": "text/x-python",
   "name": "python",
   "nbconvert_exporter": "python",
   "pygments_lexer": "ipython3",
   "version": "3.6.2"
  }
 },
 "nbformat": 4,
 "nbformat_minor": 2
}
